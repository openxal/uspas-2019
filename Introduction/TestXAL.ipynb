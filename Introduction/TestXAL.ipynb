{
 "cells": [
  {
   "cell_type": "code",
   "execution_count": null,
   "metadata": {
    "scrolled": false
   },
   "outputs": [],
   "source": [
    "import jpype_setup\n",
    "\n",
    "# %matplotlib inline\n",
    "import matplotlib\n",
    "import numpy as np\n",
    "import matplotlib.pyplot as plt\n",
    "\n",
    "from xal.smf.data import XMLDataManager\n",
    "from xal.sim.scenario import Scenario, AlgorithmFactory, ProbeFactory\n",
    "\n",
    "accl = XMLDataManager.acceleratorWithPath('/home/student/lib/openxal/site/optics/production/main.xal')\n",
    "seq = accl.findSequence(\"MEBT\")\n",
    "scenario = Scenario.newScenarioFor(seq)\n",
    "tracker = AlgorithmFactory.createEnvTrackerAdapt(seq)\n",
    "probe = ProbeFactory.getEnvelopeProbe(seq,tracker)\n",
    "scenario.setProbe(probe)\n",
    "scenario.run()\n",
    "traj = scenario.getProbe().getTrajectory()\n",
    "\n",
    "xsz = map(lambda s: (s.getPosition(),s.twissParameters()[0].getEnvelopeRadius()),traj.iterator())\n",
    "\n",
    "\n",
    "plt.plot(*zip(*xsz))\n",
    "plt.title('Envelope X')\n",
    "plt.show()"
   ]
  }
 ],
 "metadata": {
  "kernelspec": {
   "display_name": "Python 3",
   "language": "python",
   "name": "python3"
  },
  "language_info": {
   "codemirror_mode": {
    "name": "ipython",
    "version": 3
   },
   "file_extension": ".py",
   "mimetype": "text/x-python",
   "name": "python",
   "nbconvert_exporter": "python",
   "pygments_lexer": "ipython3",
   "version": "3.7.3"
  }
 },
 "nbformat": 4,
 "nbformat_minor": 2
}
